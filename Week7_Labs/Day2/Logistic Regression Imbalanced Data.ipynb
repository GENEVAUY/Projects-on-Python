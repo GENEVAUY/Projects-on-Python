{
 "cells": [
  {
   "cell_type": "code",
   "execution_count": 1,
   "id": "4358ff2b",
   "metadata": {},
   "outputs": [],
   "source": [
    "import pandas as pd\n",
    "import numpy as np\n",
    "import matplotlib.pyplot as plt\n",
    "from sklearn.model_selection import train_test_split\n",
    "from sklearn.preprocessing import MinMaxScaler\n",
    "from sklearn.linear_model import LogisticRegression\n",
    "from sklearn.neighbors import KNeighborsClassifier\n",
    "from sklearn.metrics import accuracy_score, precision_score, recall_score, confusion_matrix, classification_report\n",
    "from sklearn.metrics import ConfusionMatrixDisplay\n",
    "from sklearn.tree import DecisionTreeClassifier\n",
    "\n"
   ]
  },
  {
   "cell_type": "code",
   "execution_count": 2,
   "id": "60a67fff",
   "metadata": {},
   "outputs": [],
   "source": [
    "# Read the CSV file\n",
    "df_org = pd.read_csv(\"file:///Users/genevauy/Desktop/DATA_Customer-Churn.csv\")\n"
   ]
  },
  {
   "cell_type": "code",
   "execution_count": 3,
   "id": "8fe9389a",
   "metadata": {},
   "outputs": [],
   "source": [
    "# Convert column names to lowercase\n",
    "df_org = df_org.rename(columns=lambda x: x.lower())\n"
   ]
  },
  {
   "cell_type": "code",
   "execution_count": 4,
   "id": "12cda1f7",
   "metadata": {},
   "outputs": [],
   "source": [
    "# Select relevant columns\n",
    "selected_columns = ['seniorcitizen', 'tenure', 'monthlycharges', 'totalcharges', 'churn']\n",
    "df = df_org[selected_columns].copy()\n"
   ]
  },
  {
   "cell_type": "code",
   "execution_count": 5,
   "id": "de31b35b",
   "metadata": {},
   "outputs": [],
   "source": [
    "# Convert 'churn' column values to numeric\n",
    "df[\"churn\"] = df[\"churn\"].map({'No': 0, 'Yes': 1})\n"
   ]
  },
  {
   "cell_type": "code",
   "execution_count": 6,
   "id": "55e3aee8",
   "metadata": {},
   "outputs": [],
   "source": [
    "\n",
    "# Convert 'totalcharges' column to float\n",
    "df['totalcharges'] = pd.to_numeric(df['totalcharges'], errors='coerce')\n"
   ]
  },
  {
   "cell_type": "code",
   "execution_count": 7,
   "id": "d0e7d368",
   "metadata": {},
   "outputs": [],
   "source": [
    "\n",
    "# Handle missing values in 'totalcharges' column\n",
    "mean_totalcharges = df['totalcharges'].mean()\n",
    "df['totalcharges'].fillna(mean_totalcharges, inplace=True)\n"
   ]
  },
  {
   "cell_type": "code",
   "execution_count": 8,
   "id": "548d832d",
   "metadata": {},
   "outputs": [],
   "source": [
    "\n",
    "# Split the data into training and test sets\n",
    "X = df[['tenure', 'seniorcitizen', 'monthlycharges', 'totalcharges']]\n",
    "y = df['churn']\n",
    "X_train, X_test, y_train, y_test = train_test_split(X, y, test_size=0.20, random_state=11)\n",
    "\n"
   ]
  },
  {
   "cell_type": "code",
   "execution_count": 9,
   "id": "5594aa7f",
   "metadata": {},
   "outputs": [],
   "source": [
    "\n",
    "# Scale the features using MinMaxScaler\n",
    "scaler = MinMaxScaler()\n",
    "X_train_scaled = scaler.fit_transform(X_train)\n",
    "X_test_scaled = scaler.transform(X_test)"
   ]
  },
  {
   "cell_type": "code",
   "execution_count": 10,
   "id": "5a39e78a",
   "metadata": {},
   "outputs": [
    {
     "data": {
      "text/html": [
       "<div>\n",
       "<style scoped>\n",
       "    .dataframe tbody tr th:only-of-type {\n",
       "        vertical-align: middle;\n",
       "    }\n",
       "\n",
       "    .dataframe tbody tr th {\n",
       "        vertical-align: top;\n",
       "    }\n",
       "\n",
       "    .dataframe thead th {\n",
       "        text-align: right;\n",
       "    }\n",
       "</style>\n",
       "<table border=\"1\" class=\"dataframe\">\n",
       "  <thead>\n",
       "    <tr style=\"text-align: right;\">\n",
       "      <th></th>\n",
       "      <th>Error_metric</th>\n",
       "      <th>Train</th>\n",
       "      <th>Test</th>\n",
       "    </tr>\n",
       "  </thead>\n",
       "  <tbody>\n",
       "    <tr>\n",
       "      <th>0</th>\n",
       "      <td>Accuracy</td>\n",
       "      <td>0.789315</td>\n",
       "      <td>0.799858</td>\n",
       "    </tr>\n",
       "    <tr>\n",
       "      <th>1</th>\n",
       "      <td>Precision</td>\n",
       "      <td>0.649606</td>\n",
       "      <td>0.690476</td>\n",
       "    </tr>\n",
       "    <tr>\n",
       "      <th>2</th>\n",
       "      <td>Recall</td>\n",
       "      <td>0.442656</td>\n",
       "      <td>0.460317</td>\n",
       "    </tr>\n",
       "  </tbody>\n",
       "</table>\n",
       "</div>"
      ],
      "text/plain": [
       "  Error_metric     Train      Test\n",
       "0     Accuracy  0.789315  0.799858\n",
       "1    Precision  0.649606  0.690476\n",
       "2       Recall  0.442656  0.460317"
      ]
     },
     "metadata": {},
     "output_type": "display_data"
    }
   ],
   "source": [
    "# Logistic Regression\n",
    "log_model = LogisticRegression()\n",
    "log_model.fit(X_train_scaled, y_train)\n",
    "y_pred_train_log = log_model.predict(X_train_scaled)\n",
    "y_pred_test_log = log_model.predict(X_test_scaled)\n",
    "\n",
    "# Performance metrics for Logistic Regression\n",
    "performance_log = pd.DataFrame({'Error_metric': ['Accuracy', 'Precision', 'Recall'],\n",
    "                                'Train': [accuracy_score(y_train, y_pred_train_log),\n",
    "                                          precision_score(y_train, y_pred_train_log),\n",
    "                                          recall_score(y_train, y_pred_train_log)],\n",
    "                                'Test': [accuracy_score(y_test, y_pred_test_log),\n",
    "                                         precision_score(y_test, y_pred_test_log),\n",
    "                                         recall_score(y_test, y_pred_test_log)]})\n",
    "display(performance_log)"
   ]
  },
  {
   "cell_type": "code",
   "execution_count": 11,
   "id": "48784a8f",
   "metadata": {},
   "outputs": [],
   "source": [
    "# Confusion matrix for Logistic Regression\n",
    "cm_train_log = confusion_matrix(y_train, y_pred_train_log)\n",
    "cm_test_log = confusion_matrix(y_test, y_pred_test_log)\n"
   ]
  },
  {
   "cell_type": "code",
   "execution_count": 12,
   "id": "3b9713a6",
   "metadata": {},
   "outputs": [
    {
     "data": {
      "text/plain": [
       "<sklearn.metrics._plot.confusion_matrix.ConfusionMatrixDisplay at 0x12f33ca30>"
      ]
     },
     "execution_count": 12,
     "metadata": {},
     "output_type": "execute_result"
    },
    {
     "data": {
      "image/png": "[encoded data removed]",
      "text/plain": [
       "<Figure size 640x480 with 2 Axes>"
      ]
     },
     "metadata": {},
     "output_type": "display_data"
    }
   ],
   "source": [
    "\n",
    "disp_train_log = ConfusionMatrixDisplay(cm_train_log)\n",
    "disp_train_log.plot()\n"
   ]
  },
  {
   "cell_type": "code",
   "execution_count": 13,
   "id": "7f7f5ced",
   "metadata": {},
   "outputs": [
    {
     "data": {
      "text/plain": [
       "<sklearn.metrics._plot.confusion_matrix.ConfusionMatrixDisplay at 0x12f33c4c0>"
      ]
     },
     "execution_count": 13,
     "metadata": {},
     "output_type": "execute_result"
    },
    {
     "data": {
      "image/png": "[encoded data removed]",
      "text/plain": [
       "<Figure size 640x480 with 2 Axes>"
      ]
     },
     "metadata": {},
     "output_type": "display_data"
    }
   ],
   "source": [
    "\n",
    "disp_test_log = ConfusionMatrixDisplay(cm_test_log)\n",
    "disp_test_log.plot()\n"
   ]
  },
  {
   "cell_type": "code",
   "execution_count": 14,
   "id": "93fe9bdf",
   "metadata": {},
   "outputs": [],
   "source": [
    "\n",
    "# Invert the values of y_train and y_test to change the prediction to \"whether the customer will not churn\"\n",
    "y_train_inv = y_train.apply(lambda x: 1 if x == 0 else 0)\n",
    "y_test_inv = y_test.apply(lambda x: 1 if x == 0 else 0)\n"
   ]
  }
 ],
 "metadata": {
  "kernelspec": {
   "display_name": "Python 3 (ipykernel)",
   "language": "python",
   "name": "python3"
  },
  "language_info": {
   "codemirror_mode": {
    "name": "ipython",
    "version": 3
   },
   "file_extension": ".py",
   "mimetype": "text/x-python",
   "name": "python",
   "nbconvert_exporter": "python",
   "pygments_lexer": "ipython3",
   "version": "3.10.9"
  }
 },
 "nbformat": 4,
 "nbformat_minor": 5
}
