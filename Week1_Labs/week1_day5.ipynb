{
 "cells": [
  {
   "cell_type": "markdown",
   "id": "6799efa7",
   "metadata": {},
   "source": [
    "Challenge 1: Understanding the data\n",
    "\n",
    "In this challenge, you will use pandas to explore a given dataset. Your task is to gain a deep understanding of the data by analyzing its characteristics, dimensions, and statistical properties.\n"
   ]
  },
  {
   "cell_type": "code",
   "execution_count": 1,
   "id": "476f5d8a",
   "metadata": {},
   "outputs": [],
   "source": [
    "import pandas as pd"
   ]
  },
  {
   "cell_type": "code",
   "execution_count": 2,
   "id": "3abb2078",
   "metadata": {},
   "outputs": [],
   "source": [
    "df=pd.read_csv(\"https://raw.githubusercontent.com/data-bootcamp-v4/data/main/file1.csv\")"
   ]
  },
  {
   "cell_type": "code",
   "execution_count": 3,
   "id": "5c8d33ad",
   "metadata": {},
   "outputs": [
    {
     "data": {
      "text/html": [
       "<div>\n",
       "<style scoped>\n",
       "    .dataframe tbody tr th:only-of-type {\n",
       "        vertical-align: middle;\n",
       "    }\n",
       "\n",
       "    .dataframe tbody tr th {\n",
       "        vertical-align: top;\n",
       "    }\n",
       "\n",
       "    .dataframe thead th {\n",
       "        text-align: right;\n",
       "    }\n",
       "</style>\n",
       "<table border=\"1\" class=\"dataframe\">\n",
       "  <thead>\n",
       "    <tr style=\"text-align: right;\">\n",
       "      <th></th>\n",
       "      <th>Customer</th>\n",
       "      <th>ST</th>\n",
       "      <th>GENDER</th>\n",
       "      <th>Education</th>\n",
       "      <th>Customer Lifetime Value</th>\n",
       "      <th>Income</th>\n",
       "      <th>Monthly Premium Auto</th>\n",
       "      <th>Number of Open Complaints</th>\n",
       "      <th>Policy Type</th>\n",
       "      <th>Vehicle Class</th>\n",
       "      <th>Total Claim Amount</th>\n",
       "    </tr>\n",
       "  </thead>\n",
       "  <tbody>\n",
       "    <tr>\n",
       "      <th>0</th>\n",
       "      <td>RB50392</td>\n",
       "      <td>Washington</td>\n",
       "      <td>NaN</td>\n",
       "      <td>Master</td>\n",
       "      <td>NaN</td>\n",
       "      <td>0.0</td>\n",
       "      <td>1000.0</td>\n",
       "      <td>1/0/00</td>\n",
       "      <td>Personal Auto</td>\n",
       "      <td>Four-Door Car</td>\n",
       "      <td>2.704934</td>\n",
       "    </tr>\n",
       "    <tr>\n",
       "      <th>1</th>\n",
       "      <td>QZ44356</td>\n",
       "      <td>Arizona</td>\n",
       "      <td>F</td>\n",
       "      <td>Bachelor</td>\n",
       "      <td>697953.59%</td>\n",
       "      <td>0.0</td>\n",
       "      <td>94.0</td>\n",
       "      <td>1/0/00</td>\n",
       "      <td>Personal Auto</td>\n",
       "      <td>Four-Door Car</td>\n",
       "      <td>1131.464935</td>\n",
       "    </tr>\n",
       "    <tr>\n",
       "      <th>2</th>\n",
       "      <td>AI49188</td>\n",
       "      <td>Nevada</td>\n",
       "      <td>F</td>\n",
       "      <td>Bachelor</td>\n",
       "      <td>1288743.17%</td>\n",
       "      <td>48767.0</td>\n",
       "      <td>108.0</td>\n",
       "      <td>1/0/00</td>\n",
       "      <td>Personal Auto</td>\n",
       "      <td>Two-Door Car</td>\n",
       "      <td>566.472247</td>\n",
       "    </tr>\n",
       "    <tr>\n",
       "      <th>3</th>\n",
       "      <td>WW63253</td>\n",
       "      <td>California</td>\n",
       "      <td>M</td>\n",
       "      <td>Bachelor</td>\n",
       "      <td>764586.18%</td>\n",
       "      <td>0.0</td>\n",
       "      <td>106.0</td>\n",
       "      <td>1/0/00</td>\n",
       "      <td>Corporate Auto</td>\n",
       "      <td>SUV</td>\n",
       "      <td>529.881344</td>\n",
       "    </tr>\n",
       "    <tr>\n",
       "      <th>4</th>\n",
       "      <td>GA49547</td>\n",
       "      <td>Washington</td>\n",
       "      <td>M</td>\n",
       "      <td>High School or Below</td>\n",
       "      <td>536307.65%</td>\n",
       "      <td>36357.0</td>\n",
       "      <td>68.0</td>\n",
       "      <td>1/0/00</td>\n",
       "      <td>Personal Auto</td>\n",
       "      <td>Four-Door Car</td>\n",
       "      <td>17.269323</td>\n",
       "    </tr>\n",
       "    <tr>\n",
       "      <th>...</th>\n",
       "      <td>...</td>\n",
       "      <td>...</td>\n",
       "      <td>...</td>\n",
       "      <td>...</td>\n",
       "      <td>...</td>\n",
       "      <td>...</td>\n",
       "      <td>...</td>\n",
       "      <td>...</td>\n",
       "      <td>...</td>\n",
       "      <td>...</td>\n",
       "      <td>...</td>\n",
       "    </tr>\n",
       "    <tr>\n",
       "      <th>4003</th>\n",
       "      <td>NaN</td>\n",
       "      <td>NaN</td>\n",
       "      <td>NaN</td>\n",
       "      <td>NaN</td>\n",
       "      <td>NaN</td>\n",
       "      <td>NaN</td>\n",
       "      <td>NaN</td>\n",
       "      <td>NaN</td>\n",
       "      <td>NaN</td>\n",
       "      <td>NaN</td>\n",
       "      <td>NaN</td>\n",
       "    </tr>\n",
       "    <tr>\n",
       "      <th>4004</th>\n",
       "      <td>NaN</td>\n",
       "      <td>NaN</td>\n",
       "      <td>NaN</td>\n",
       "      <td>NaN</td>\n",
       "      <td>NaN</td>\n",
       "      <td>NaN</td>\n",
       "      <td>NaN</td>\n",
       "      <td>NaN</td>\n",
       "      <td>NaN</td>\n",
       "      <td>NaN</td>\n",
       "      <td>NaN</td>\n",
       "    </tr>\n",
       "    <tr>\n",
       "      <th>4005</th>\n",
       "      <td>NaN</td>\n",
       "      <td>NaN</td>\n",
       "      <td>NaN</td>\n",
       "      <td>NaN</td>\n",
       "      <td>NaN</td>\n",
       "      <td>NaN</td>\n",
       "      <td>NaN</td>\n",
       "      <td>NaN</td>\n",
       "      <td>NaN</td>\n",
       "      <td>NaN</td>\n",
       "      <td>NaN</td>\n",
       "    </tr>\n",
       "    <tr>\n",
       "      <th>4006</th>\n",
       "      <td>NaN</td>\n",
       "      <td>NaN</td>\n",
       "      <td>NaN</td>\n",
       "      <td>NaN</td>\n",
       "      <td>NaN</td>\n",
       "      <td>NaN</td>\n",
       "      <td>NaN</td>\n",
       "      <td>NaN</td>\n",
       "      <td>NaN</td>\n",
       "      <td>NaN</td>\n",
       "      <td>NaN</td>\n",
       "    </tr>\n",
       "    <tr>\n",
       "      <th>4007</th>\n",
       "      <td>NaN</td>\n",
       "      <td>NaN</td>\n",
       "      <td>NaN</td>\n",
       "      <td>NaN</td>\n",
       "      <td>NaN</td>\n",
       "      <td>NaN</td>\n",
       "      <td>NaN</td>\n",
       "      <td>NaN</td>\n",
       "      <td>NaN</td>\n",
       "      <td>NaN</td>\n",
       "      <td>NaN</td>\n",
       "    </tr>\n",
       "  </tbody>\n",
       "</table>\n",
       "<p>4008 rows × 11 columns</p>\n",
       "</div>"
      ],
      "text/plain": [
       "     Customer          ST GENDER             Education  \\\n",
       "0     RB50392  Washington    NaN                Master   \n",
       "1     QZ44356     Arizona      F              Bachelor   \n",
       "2     AI49188      Nevada      F              Bachelor   \n",
       "3     WW63253  California      M              Bachelor   \n",
       "4     GA49547  Washington      M  High School or Below   \n",
       "...       ...         ...    ...                   ...   \n",
       "4003      NaN         NaN    NaN                   NaN   \n",
       "4004      NaN         NaN    NaN                   NaN   \n",
       "4005      NaN         NaN    NaN                   NaN   \n",
       "4006      NaN         NaN    NaN                   NaN   \n",
       "4007      NaN         NaN    NaN                   NaN   \n",
       "\n",
       "     Customer Lifetime Value   Income  Monthly Premium Auto  \\\n",
       "0                        NaN      0.0                1000.0   \n",
       "1                 697953.59%      0.0                  94.0   \n",
       "2                1288743.17%  48767.0                 108.0   \n",
       "3                 764586.18%      0.0                 106.0   \n",
       "4                 536307.65%  36357.0                  68.0   \n",
       "...                      ...      ...                   ...   \n",
       "4003                     NaN      NaN                   NaN   \n",
       "4004                     NaN      NaN                   NaN   \n",
       "4005                     NaN      NaN                   NaN   \n",
       "4006                     NaN      NaN                   NaN   \n",
       "4007                     NaN      NaN                   NaN   \n",
       "\n",
       "     Number of Open Complaints     Policy Type  Vehicle Class  \\\n",
       "0                       1/0/00   Personal Auto  Four-Door Car   \n",
       "1                       1/0/00   Personal Auto  Four-Door Car   \n",
       "2                       1/0/00   Personal Auto   Two-Door Car   \n",
       "3                       1/0/00  Corporate Auto            SUV   \n",
       "4                       1/0/00   Personal Auto  Four-Door Car   \n",
       "...                        ...             ...            ...   \n",
       "4003                       NaN             NaN            NaN   \n",
       "4004                       NaN             NaN            NaN   \n",
       "4005                       NaN             NaN            NaN   \n",
       "4006                       NaN             NaN            NaN   \n",
       "4007                       NaN             NaN            NaN   \n",
       "\n",
       "      Total Claim Amount  \n",
       "0               2.704934  \n",
       "1            1131.464935  \n",
       "2             566.472247  \n",
       "3             529.881344  \n",
       "4              17.269323  \n",
       "...                  ...  \n",
       "4003                 NaN  \n",
       "4004                 NaN  \n",
       "4005                 NaN  \n",
       "4006                 NaN  \n",
       "4007                 NaN  \n",
       "\n",
       "[4008 rows x 11 columns]"
      ]
     },
     "execution_count": 3,
     "metadata": {},
     "output_type": "execute_result"
    }
   ],
   "source": [
    "df"
   ]
  },
  {
   "cell_type": "markdown",
   "id": "377535cb",
   "metadata": {},
   "source": [
    "#### Identify the dimensions of the dataset by determining the number of rows and columns it contains."
   ]
  },
  {
   "cell_type": "code",
   "execution_count": 4,
   "id": "4acc4fe1",
   "metadata": {},
   "outputs": [
    {
     "name": "stdout",
     "output_type": "stream",
     "text": [
      "Number of rows: 4008\n",
      "Number of columns: 11\n"
     ]
    }
   ],
   "source": [
    "num_rows, num_columns = df.shape\n",
    "\n",
    "# Print the dimensions\n",
    "print(\"Number of rows:\", num_rows)\n",
    "print(\"Number of columns:\", num_columns)"
   ]
  },
  {
   "cell_type": "markdown",
   "id": "d3597c0c",
   "metadata": {},
   "source": [
    "#### Determine the data types of each column and evaluate whether they are appropriate for the nature of the variable. "
   ]
  },
  {
   "cell_type": "code",
   "execution_count": 5,
   "id": "6558ca4e",
   "metadata": {},
   "outputs": [
    {
     "data": {
      "text/plain": [
       "Customer                      object\n",
       "ST                            object\n",
       "GENDER                        object\n",
       "Education                     object\n",
       "Customer Lifetime Value       object\n",
       "Income                       float64\n",
       "Monthly Premium Auto         float64\n",
       "Number of Open Complaints     object\n",
       "Policy Type                   object\n",
       "Vehicle Class                 object\n",
       "Total Claim Amount           float64\n",
       "dtype: object"
      ]
     },
     "execution_count": 5,
     "metadata": {},
     "output_type": "execute_result"
    }
   ],
   "source": [
    "df.dtypes"
   ]
  },
  {
   "cell_type": "markdown",
   "id": "bd36c620",
   "metadata": {},
   "source": [
    "#### You should also provide suggestions for fixing any incorrect data types."
   ]
  },
  {
   "cell_type": "markdown",
   "id": "3af69501",
   "metadata": {},
   "source": [
    "Customer Lifetime Value should be a float type."
   ]
  },
  {
   "cell_type": "code",
   "execution_count": 6,
   "id": "d78f5b6b",
   "metadata": {},
   "outputs": [],
   "source": [
    "df['Customer Lifetime Value'] = df['Customer Lifetime Value'].str.replace('%', '')\n",
    "\n",
    "df['Customer Lifetime Value'] = df['Customer Lifetime Value'].astype(float)"
   ]
  },
  {
   "cell_type": "markdown",
   "id": "4be0fa4b",
   "metadata": {},
   "source": [
    "#### Identify the number of unique values for each column"
   ]
  },
  {
   "cell_type": "code",
   "execution_count": 7,
   "id": "4306ece9",
   "metadata": {},
   "outputs": [
    {
     "data": {
      "text/plain": [
       "Customer                     1071\n",
       "ST                              8\n",
       "GENDER                          5\n",
       "Education                       6\n",
       "Customer Lifetime Value      1027\n",
       "Income                        774\n",
       "Monthly Premium Auto          132\n",
       "Number of Open Complaints       6\n",
       "Policy Type                     3\n",
       "Vehicle Class                   6\n",
       "Total Claim Amount            761\n",
       "dtype: int64"
      ]
     },
     "execution_count": 7,
     "metadata": {},
     "output_type": "execute_result"
    }
   ],
   "source": [
    "df.nunique()"
   ]
  },
  {
   "cell_type": "markdown",
   "id": "2f50d2cd",
   "metadata": {},
   "source": [
    "####  determine which columns appear to be categorical"
   ]
  },
  {
   "cell_type": "code",
   "execution_count": 8,
   "id": "e92c237f",
   "metadata": {
    "scrolled": true
   },
   "outputs": [
    {
     "data": {
      "text/plain": [
       "['Customer',\n",
       " 'ST',\n",
       " 'GENDER',\n",
       " 'Education',\n",
       " 'Number of Open Complaints',\n",
       " 'Policy Type',\n",
       " 'Vehicle Class']"
      ]
     },
     "execution_count": 8,
     "metadata": {},
     "output_type": "execute_result"
    }
   ],
   "source": [
    "data_types = df.dtypes\n",
    "\n",
    "# Determine which columns appear to be categorical\n",
    "categorical = data_types[data_types == 'object'].index.tolist()\n",
    "categorical"
   ]
  },
  {
   "cell_type": "code",
   "execution_count": 9,
   "id": "ae3f7ed9",
   "metadata": {},
   "outputs": [
    {
     "data": {
      "text/plain": [
       "Customer                     2937\n",
       "ST                           2937\n",
       "GENDER                       3054\n",
       "Education                    2937\n",
       "Customer Lifetime Value      2940\n",
       "Income                       2937\n",
       "Monthly Premium Auto         2937\n",
       "Number of Open Complaints    2937\n",
       "Policy Type                  2937\n",
       "Vehicle Class                2937\n",
       "Total Claim Amount           2937\n",
       "dtype: int64"
      ]
     },
     "execution_count": 9,
     "metadata": {},
     "output_type": "execute_result"
    }
   ],
   "source": [
    "df.isna().sum()\n"
   ]
  },
  {
   "cell_type": "code",
   "execution_count": 16,
   "id": "d1e4309a",
   "metadata": {},
   "outputs": [],
   "source": [
    "df.columns = df.columns.str.lower()\n"
   ]
  },
  {
   "cell_type": "code",
   "execution_count": 20,
   "id": "0fdc1ff7",
   "metadata": {},
   "outputs": [
    {
     "data": {
      "text/plain": [
       "['customer',\n",
       " 'st',\n",
       " 'gender',\n",
       " 'education',\n",
       " 'customer lifetime value',\n",
       " 'income',\n",
       " 'monthly premium auto',\n",
       " 'number of open complaints',\n",
       " 'policy type',\n",
       " 'vehicle class',\n",
       " 'total claim amount']"
      ]
     },
     "execution_count": 20,
     "metadata": {},
     "output_type": "execute_result"
    }
   ],
   "source": [
    "df.columns.tolist()"
   ]
  },
  {
   "cell_type": "code",
   "execution_count": 17,
   "id": "107cd9f1",
   "metadata": {},
   "outputs": [],
   "source": [
    "categorical = df.select_dtypes(include=['object'])\n",
    "\n",
    "numerical = df.select_dtypes(include=['int', 'float'])"
   ]
  },
  {
   "cell_type": "markdown",
   "id": "c611c88b",
   "metadata": {},
   "source": [
    "#### You should also describe the unique values of each categorical column and the range of values for numerical columns, and give your insights."
   ]
  },
  {
   "cell_type": "code",
   "execution_count": 18,
   "id": "f28b69bf",
   "metadata": {},
   "outputs": [
    {
     "name": "stdout",
     "output_type": "stream",
     "text": [
      "Column 'customer': ['RB50392' 'QZ44356' 'AI49188' ... 'CW49887' 'MY31220' nan]\n",
      "Column 'st': ['Washington' 'Arizona' 'Nevada' 'California' 'Oregon' 'Cali' 'AZ' 'WA'\n",
      " nan]\n",
      "Column 'gender': [nan 'F' 'M' 'Femal' 'Male' 'female']\n",
      "Column 'education': ['Master' 'Bachelor' 'High School or Below' 'College' 'Bachelors' 'Doctor'\n",
      " nan]\n",
      "Column 'number of open complaints': ['1/0/00' '1/2/00' '1/1/00' '1/3/00' '1/5/00' '1/4/00' nan]\n",
      "Column 'policy type': ['Personal Auto' 'Corporate Auto' 'Special Auto' nan]\n",
      "Column 'vehicle class': ['Four-Door Car' 'Two-Door Car' 'SUV' 'Luxury SUV' 'Sports Car'\n",
      " 'Luxury Car' nan]\n"
     ]
    }
   ],
   "source": [
    "for column in categorical.columns:\n",
    "    unique_values = categorical[column].unique()\n",
    "    print(f\"Column '{column}': {unique_values}\")"
   ]
  },
  {
   "cell_type": "code",
   "execution_count": 19,
   "id": "7f54dfb4",
   "metadata": {},
   "outputs": [
    {
     "name": "stdout",
     "output_type": "stream",
     "text": [
      "Range of values for numerical columns:\n",
      "     customer lifetime value   income  monthly premium auto  \\\n",
      "min                200435.07      0.0                  61.0   \n",
      "max               5816655.35  99960.0               35354.0   \n",
      "\n",
      "     total claim amount  \n",
      "min            0.382107  \n",
      "max         2893.239678  \n"
     ]
    }
   ],
   "source": [
    "numerical_columns = df.select_dtypes(include=[int, float]).columns\n",
    "range_of_values = df[numerical_columns].describe().loc[['min', 'max']]\n",
    "\n",
    "# Print the range of values for numerical columns\n",
    "print(\"Range of values for numerical columns:\")\n",
    "print(range_of_values)"
   ]
  },
  {
   "cell_type": "markdown",
   "id": "dd2c1634",
   "metadata": {},
   "source": [
    " Insights: There seems to be values that have the same meaning in the same column."
   ]
  },
  {
   "cell_type": "markdown",
   "id": "d6399879",
   "metadata": {},
   "source": [
    "#### Compute summary statistics such as mean, median, mode, standard deviation, and quartiles to understand the central tendency and distribution of the data for numerical columns. "
   ]
  },
  {
   "cell_type": "code",
   "execution_count": 13,
   "id": "35295392",
   "metadata": {},
   "outputs": [
    {
     "name": "stdout",
     "output_type": "stream",
     "text": [
      "Summary Statistics for Numerical Columns:\n",
      "       Customer Lifetime Value        Income  Monthly Premium Auto  \\\n",
      "count             1.068000e+03   1071.000000           1071.000000   \n",
      "mean              7.936903e+05  39295.701214            193.234360   \n",
      "std               6.434784e+05  30469.427060           1601.190369   \n",
      "min               2.004351e+05      0.000000             61.000000   \n",
      "25%               4.034080e+05  14072.000000             68.000000   \n",
      "50%               5.881742e+05  36234.000000             83.000000   \n",
      "75%               8.962872e+05  64631.000000            109.500000   \n",
      "max               5.816655e+06  99960.000000          35354.000000   \n",
      "mode              2.514592e+05      0.000000             65.000000   \n",
      "\n",
      "       Total Claim Amount  \n",
      "count         1071.000000  \n",
      "mean           404.986909  \n",
      "std            293.027260  \n",
      "min              0.382107  \n",
      "25%            202.157702  \n",
      "50%            354.729129  \n",
      "75%            532.800000  \n",
      "max           2893.239678  \n",
      "mode           321.600000  \n"
     ]
    }
   ],
   "source": [
    "# Compute summary statistics for numerical columns\n",
    "summary_statistics = df.describe()\n",
    "\n",
    "# Calculate the mode for each numerical column\n",
    "mode_values = df.mode().iloc[0]\n",
    "\n",
    "# Add mode values to the summary statistics DataFrame\n",
    "summary_statistics.loc['mode'] = mode_values\n",
    "\n",
    "# Print the summary statistics\n",
    "print(\"Summary Statistics for Numerical Columns:\")\n",
    "print(summary_statistics)\n"
   ]
  },
  {
   "cell_type": "markdown",
   "id": "e92de412",
   "metadata": {},
   "source": [
    "#### Provide your conclusions based on these summary statistics."
   ]
  },
  {
   "cell_type": "markdown",
   "id": "3fa54b39",
   "metadata": {},
   "source": [
    "The dataset contains information about customers, including their Customer Lifetime Value, Income, Monthly Premium Auto, and Total Claim Amount. The average CLV is high, with significant variability. Income has moderate average but some zero values raise concerns. Monthly premiums show wide variation, and there are low-value claims alongside large ones. "
   ]
  },
  {
   "cell_type": "markdown",
   "id": "a2ce545e",
   "metadata": {},
   "source": [
    "#### Compute summary statistics for categorical columns and providing your conclusions based on these statistics."
   ]
  },
  {
   "cell_type": "code",
   "execution_count": 14,
   "id": "2e2f14c4",
   "metadata": {},
   "outputs": [
    {
     "name": "stdout",
     "output_type": "stream",
     "text": [
      "Summary Statistics for Categorical Columns:\n",
      "Column 'Customer':\n",
      "  Unique values: 1071\n",
      "  Most frequent value: RB50392\n",
      "  Count of most frequent value: 1\n",
      "Column 'ST':\n",
      "  Unique values: 8\n",
      "  Most frequent value: Oregon\n",
      "  Count of most frequent value: 320\n",
      "Column 'GENDER':\n",
      "  Unique values: 5\n",
      "  Most frequent value: F\n",
      "  Count of most frequent value: 457\n",
      "Column 'Education':\n",
      "  Unique values: 6\n",
      "  Most frequent value: Bachelor\n",
      "  Count of most frequent value: 324\n",
      "Column 'Number of Open Complaints':\n",
      "  Unique values: 6\n",
      "  Most frequent value: 1/0/00\n",
      "  Count of most frequent value: 830\n",
      "Column 'Policy Type':\n",
      "  Unique values: 3\n",
      "  Most frequent value: Personal Auto\n",
      "  Count of most frequent value: 780\n",
      "Column 'Vehicle Class':\n",
      "  Unique values: 6\n",
      "  Most frequent value: Four-Door Car\n",
      "  Count of most frequent value: 576\n"
     ]
    }
   ],
   "source": [
    "# Compute for summary statistics for categorical columns\n",
    "summary_categorical = {}\n",
    "\n",
    "for column in categorical.columns:\n",
    "    column_value_counts = categorical[column].value_counts()\n",
    "    summary_categorical[column] = {\n",
    "        'unique_values': len(column_value_counts),\n",
    "        'most_frequent_value': column_value_counts.index[0],\n",
    "        'count_most_frequent': column_value_counts.iloc[0],\n",
    "    }\n",
    "\n",
    "# summary statistics for categorical columns\n",
    "print(\"Summary Statistics for Categorical Columns:\")\n",
    "for column, stats in summary_categorical.items():\n",
    "    print(f\"Column '{column}':\")\n",
    "    print(f\"  Unique values: {stats['unique_values']}\")\n",
    "    print(f\"  Most frequent value: {stats['most_frequent_value']}\")\n",
    "    print(f\"  Count of most frequent value: {stats['count_most_frequent']}\")\n"
   ]
  },
  {
   "cell_type": "markdown",
   "id": "75d05841",
   "metadata": {},
   "source": [
    "The dataset includes customer and policy information. Here are some key findings:\n",
    "\n",
    "There are 1071 unique customers, with \"RB50392\" as the most frequent identifier.\n",
    "There are 8 unique states, with \"Oregon\" being the most common.\n",
    "There are 5 unique genders, with \"Female\" (F) being the most frequent.\n",
    "\"Bachelor\" is the most common education level among customers.\n",
    "The \"Number of Open Complaints\" column may have data issues.\n",
    "\"Personal Auto\" is the most common policy type.\n",
    "\"Four-Door Car\" is the most frequent vehicle class.\n"
   ]
  },
  {
   "cell_type": "code",
   "execution_count": 22,
   "id": "464ef133",
   "metadata": {},
   "outputs": [
    {
     "name": "stdout",
     "output_type": "stream",
     "text": [
      "Summary Statistics for High Policy Claim Amount Data:\n",
      "count     264.000000\n",
      "mean      782.228263\n",
      "std       292.751640\n",
      "min       537.600000\n",
      "25%       606.521741\n",
      "50%       679.597985\n",
      "75%       851.400000\n",
      "max      2893.239678\n",
      "Name: total claim amount, dtype: float64\n"
     ]
    }
   ],
   "source": [
    "total_claim_stats = df['total claim amount'].describe()\n",
    "\n",
    "\n",
    "threshold_claim_amount = df['total claim amount'].quantile(0.75)\n",
    "\n",
    "high_claim_customers = df[df['total claim amount'] > threshold_claim_amount]\n",
    "\n",
    "\n",
    "summary_high_claim = high_claim_customers['total claim amount'].describe()\n",
    "\n",
    "\n",
    "print(\"Summary Statistics for High Policy Claim Amount Data:\")\n",
    "print(summary_high_claim)"
   ]
  },
  {
   "cell_type": "code",
   "execution_count": 23,
   "id": "3a782c06",
   "metadata": {},
   "outputs": [
    {
     "data": {
      "text/html": [
       "<div>\n",
       "<style scoped>\n",
       "    .dataframe tbody tr th:only-of-type {\n",
       "        vertical-align: middle;\n",
       "    }\n",
       "\n",
       "    .dataframe tbody tr th {\n",
       "        vertical-align: top;\n",
       "    }\n",
       "\n",
       "    .dataframe thead th {\n",
       "        text-align: right;\n",
       "    }\n",
       "</style>\n",
       "<table border=\"1\" class=\"dataframe\">\n",
       "  <thead>\n",
       "    <tr style=\"text-align: right;\">\n",
       "      <th></th>\n",
       "      <th>customer</th>\n",
       "      <th>st</th>\n",
       "      <th>gender</th>\n",
       "      <th>education</th>\n",
       "      <th>customer lifetime value</th>\n",
       "      <th>income</th>\n",
       "      <th>monthly premium auto</th>\n",
       "      <th>number of open complaints</th>\n",
       "      <th>policy type</th>\n",
       "      <th>vehicle class</th>\n",
       "      <th>total claim amount</th>\n",
       "    </tr>\n",
       "  </thead>\n",
       "  <tbody>\n",
       "    <tr>\n",
       "      <th>1</th>\n",
       "      <td>QZ44356</td>\n",
       "      <td>Arizona</td>\n",
       "      <td>F</td>\n",
       "      <td>Bachelor</td>\n",
       "      <td>697953.59</td>\n",
       "      <td>0.0</td>\n",
       "      <td>94.0</td>\n",
       "      <td>1/0/00</td>\n",
       "      <td>Personal Auto</td>\n",
       "      <td>Four-Door Car</td>\n",
       "      <td>1131.464935</td>\n",
       "    </tr>\n",
       "    <tr>\n",
       "      <th>2</th>\n",
       "      <td>AI49188</td>\n",
       "      <td>Nevada</td>\n",
       "      <td>F</td>\n",
       "      <td>Bachelor</td>\n",
       "      <td>1288743.17</td>\n",
       "      <td>48767.0</td>\n",
       "      <td>108.0</td>\n",
       "      <td>1/0/00</td>\n",
       "      <td>Personal Auto</td>\n",
       "      <td>Two-Door Car</td>\n",
       "      <td>566.472247</td>\n",
       "    </tr>\n",
       "    <tr>\n",
       "      <th>17</th>\n",
       "      <td>OE15005</td>\n",
       "      <td>Cali</td>\n",
       "      <td>NaN</td>\n",
       "      <td>College</td>\n",
       "      <td>394524.16</td>\n",
       "      <td>28855.0</td>\n",
       "      <td>101.0</td>\n",
       "      <td>1/0/00</td>\n",
       "      <td>Personal Auto</td>\n",
       "      <td>SUV</td>\n",
       "      <td>647.442031</td>\n",
       "    </tr>\n",
       "    <tr>\n",
       "      <th>23</th>\n",
       "      <td>TZ98966</td>\n",
       "      <td>Nevada</td>\n",
       "      <td>NaN</td>\n",
       "      <td>Bachelor</td>\n",
       "      <td>245019.10</td>\n",
       "      <td>0.0</td>\n",
       "      <td>73.0</td>\n",
       "      <td>1/3/00</td>\n",
       "      <td>Corporate Auto</td>\n",
       "      <td>Four-Door Car</td>\n",
       "      <td>554.376763</td>\n",
       "    </tr>\n",
       "    <tr>\n",
       "      <th>26</th>\n",
       "      <td>US89481</td>\n",
       "      <td>California</td>\n",
       "      <td>NaN</td>\n",
       "      <td>Bachelor</td>\n",
       "      <td>394637.21</td>\n",
       "      <td>0.0</td>\n",
       "      <td>111.0</td>\n",
       "      <td>1/0/00</td>\n",
       "      <td>Personal Auto</td>\n",
       "      <td>Four-Door Car</td>\n",
       "      <td>799.200000</td>\n",
       "    </tr>\n",
       "    <tr>\n",
       "      <th>...</th>\n",
       "      <td>...</td>\n",
       "      <td>...</td>\n",
       "      <td>...</td>\n",
       "      <td>...</td>\n",
       "      <td>...</td>\n",
       "      <td>...</td>\n",
       "      <td>...</td>\n",
       "      <td>...</td>\n",
       "      <td>...</td>\n",
       "      <td>...</td>\n",
       "      <td>...</td>\n",
       "    </tr>\n",
       "    <tr>\n",
       "      <th>1059</th>\n",
       "      <td>YG44474</td>\n",
       "      <td>Oregon</td>\n",
       "      <td>M</td>\n",
       "      <td>College</td>\n",
       "      <td>1401472.13</td>\n",
       "      <td>54193.0</td>\n",
       "      <td>117.0</td>\n",
       "      <td>1/0/00</td>\n",
       "      <td>Corporate Auto</td>\n",
       "      <td>SUV</td>\n",
       "      <td>720.752945</td>\n",
       "    </tr>\n",
       "    <tr>\n",
       "      <th>1061</th>\n",
       "      <td>RY92647</td>\n",
       "      <td>Cali</td>\n",
       "      <td>F</td>\n",
       "      <td>Bachelor</td>\n",
       "      <td>1050677.17</td>\n",
       "      <td>0.0</td>\n",
       "      <td>92.0</td>\n",
       "      <td>1/0/00</td>\n",
       "      <td>Personal Auto</td>\n",
       "      <td>Four-Door Car</td>\n",
       "      <td>546.524896</td>\n",
       "    </tr>\n",
       "    <tr>\n",
       "      <th>1068</th>\n",
       "      <td>GS98873</td>\n",
       "      <td>Arizona</td>\n",
       "      <td>F</td>\n",
       "      <td>Bachelor</td>\n",
       "      <td>323912.47</td>\n",
       "      <td>16061.0</td>\n",
       "      <td>88.0</td>\n",
       "      <td>1/0/00</td>\n",
       "      <td>Personal Auto</td>\n",
       "      <td>Four-Door Car</td>\n",
       "      <td>633.600000</td>\n",
       "    </tr>\n",
       "    <tr>\n",
       "      <th>1069</th>\n",
       "      <td>CW49887</td>\n",
       "      <td>California</td>\n",
       "      <td>F</td>\n",
       "      <td>Master</td>\n",
       "      <td>462680.11</td>\n",
       "      <td>79487.0</td>\n",
       "      <td>114.0</td>\n",
       "      <td>1/0/00</td>\n",
       "      <td>Special Auto</td>\n",
       "      <td>SUV</td>\n",
       "      <td>547.200000</td>\n",
       "    </tr>\n",
       "    <tr>\n",
       "      <th>1070</th>\n",
       "      <td>MY31220</td>\n",
       "      <td>California</td>\n",
       "      <td>F</td>\n",
       "      <td>College</td>\n",
       "      <td>899704.02</td>\n",
       "      <td>54230.0</td>\n",
       "      <td>112.0</td>\n",
       "      <td>1/0/00</td>\n",
       "      <td>Personal Auto</td>\n",
       "      <td>Two-Door Car</td>\n",
       "      <td>537.600000</td>\n",
       "    </tr>\n",
       "  </tbody>\n",
       "</table>\n",
       "<p>264 rows × 11 columns</p>\n",
       "</div>"
      ],
      "text/plain": [
       "     customer          st gender education  customer lifetime value   income  \\\n",
       "1     QZ44356     Arizona      F  Bachelor                697953.59      0.0   \n",
       "2     AI49188      Nevada      F  Bachelor               1288743.17  48767.0   \n",
       "17    OE15005        Cali    NaN   College                394524.16  28855.0   \n",
       "23    TZ98966      Nevada    NaN  Bachelor                245019.10      0.0   \n",
       "26    US89481  California    NaN  Bachelor                394637.21      0.0   \n",
       "...       ...         ...    ...       ...                      ...      ...   \n",
       "1059  YG44474      Oregon      M   College               1401472.13  54193.0   \n",
       "1061  RY92647        Cali      F  Bachelor               1050677.17      0.0   \n",
       "1068  GS98873     Arizona      F  Bachelor                323912.47  16061.0   \n",
       "1069  CW49887  California      F    Master                462680.11  79487.0   \n",
       "1070  MY31220  California      F   College                899704.02  54230.0   \n",
       "\n",
       "      monthly premium auto number of open complaints     policy type  \\\n",
       "1                     94.0                    1/0/00   Personal Auto   \n",
       "2                    108.0                    1/0/00   Personal Auto   \n",
       "17                   101.0                    1/0/00   Personal Auto   \n",
       "23                    73.0                    1/3/00  Corporate Auto   \n",
       "26                   111.0                    1/0/00   Personal Auto   \n",
       "...                    ...                       ...             ...   \n",
       "1059                 117.0                    1/0/00  Corporate Auto   \n",
       "1061                  92.0                    1/0/00   Personal Auto   \n",
       "1068                  88.0                    1/0/00   Personal Auto   \n",
       "1069                 114.0                    1/0/00    Special Auto   \n",
       "1070                 112.0                    1/0/00   Personal Auto   \n",
       "\n",
       "      vehicle class  total claim amount  \n",
       "1     Four-Door Car         1131.464935  \n",
       "2      Two-Door Car          566.472247  \n",
       "17              SUV          647.442031  \n",
       "23    Four-Door Car          554.376763  \n",
       "26    Four-Door Car          799.200000  \n",
       "...             ...                 ...  \n",
       "1059            SUV          720.752945  \n",
       "1061  Four-Door Car          546.524896  \n",
       "1068  Four-Door Car          633.600000  \n",
       "1069            SUV          547.200000  \n",
       "1070   Two-Door Car          537.600000  \n",
       "\n",
       "[264 rows x 11 columns]"
      ]
     },
     "execution_count": 23,
     "metadata": {},
     "output_type": "execute_result"
    }
   ],
   "source": [
    "high_claim_customers"
   ]
  },
  {
   "cell_type": "code",
   "execution_count": 24,
   "id": "762fa347",
   "metadata": {},
   "outputs": [
    {
     "name": "stdout",
     "output_type": "stream",
     "text": [
      "Total Number of Policies Sold for Each Policy Type:\n",
      "Empty DataFrame\n",
      "Columns: [Total Policies Sold]\n",
      "Index: []\n",
      "Policy Type with the Highest Number of Policies Sold: Personal Auto\n"
     ]
    }
   ],
   "source": [
    "\n",
    "policy_counts = df['policy type'].value_counts()\n",
    "\n",
    "\n",
    "policy_counts_df = pd.DataFrame(policy_counts, columns=['Total Policies Sold'])\n",
    "\n",
    "policy_type_with_highest_sales = policy_counts.idxmax()\n",
    "\n",
    "print(\"Total Number of Policies Sold for Each Policy Type:\")\n",
    "print(policy_counts_df)\n",
    "\n",
    "print(\"Policy Type with the Highest Number of Policies Sold:\", policy_type_with_highest_sales)\n"
   ]
  },
  {
   "cell_type": "code",
   "execution_count": 25,
   "id": "c551cd7d",
   "metadata": {},
   "outputs": [
    {
     "name": "stdout",
     "output_type": "stream",
     "text": [
      "Average Income for Personal Auto Policies: 38180.69871794872\n",
      "Average Income for Corporate Auto Policies: 41390.31196581197\n"
     ]
    }
   ],
   "source": [
    "personal_auto_df = df.loc[df['policy type'] == 'Personal Auto']\n",
    "corporate_auto_df = df.loc[df['policy type'] == 'Corporate Auto']\n",
    "\n",
    "average_income_personal_auto = personal_auto_df['income'].mean()\n",
    "average_income_corporate_auto = corporate_auto_df['income'].mean()\n",
    "\n",
    "print(\"Average Income for Personal Auto Policies:\", average_income_personal_auto)\n",
    "print(\"Average Income for Corporate Auto Policies:\", average_income_corporate_auto)"
   ]
  },
  {
   "cell_type": "code",
   "execution_count": null,
   "id": "92930742",
   "metadata": {},
   "outputs": [],
   "source": []
  }
 ],
 "metadata": {
  "kernelspec": {
   "display_name": "Python 3 (ipykernel)",
   "language": "python",
   "name": "python3"
  },
  "language_info": {
   "codemirror_mode": {
    "name": "ipython",
    "version": 3
   },
   "file_extension": ".py",
   "mimetype": "text/x-python",
   "name": "python",
   "nbconvert_exporter": "python",
   "pygments_lexer": "ipython3",
   "version": "3.10.9"
  }
 },
 "nbformat": 4,
 "nbformat_minor": 5
}
